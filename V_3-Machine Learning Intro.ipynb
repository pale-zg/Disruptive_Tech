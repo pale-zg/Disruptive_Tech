{
 "cells": [
  {
   "cell_type": "markdown",
   "metadata": {},
   "source": [
    "<div style=\"display: block;margin-left: auto;margin-right: auto;width: 100%;text-align: center;\">\n",
    "<br><a href=\"https://www.youtube.com/watch?v=HgBpFaATdoA&list=PLEiEAq2VkUULYYgj13YHUWmRePqiu8Ddy&index=3\"><b> Source</b></a></div>"
   ]
  },
  {
   "cell_type": "markdown",
   "metadata": {},
   "source": [
    "# MACHINE LEARNING\n",
    "***\n",
    "\n",
    "### What is ML?\n",
    "Machine learning (ML) is the scientific study of algorithms and statistical models that computer systems use to effectively perform a specific task without using explicit instructions, relying on patterns and inference instead.\n",
    "\n",
    "### Where can we \"put\" ML?\n",
    "![](pic/v34/4s.png)\n",
    "\n",
    "### How does ML works?\n",
    "![](pic/v34/5s.png)\n",
    "\n",
    "### Types of ML\n",
    "- Supervised Learning\n",
    "- Unsupervised Learning\n",
    "- Reinforcement Learning\n",
    "\n",
    "#### Supervised Learning\n",
    "- based on Labeled Data\n",
    "![](pic/v34/6s.png)\n",
    "\n",
    "\n",
    "- algorithms used for supervised learning\n",
    "![](pic/v34/7s.png)\n",
    "\n",
    "#### Unsupervised Learning\n",
    "- based on Unlabeled Data\n",
    "![](pic/v34/8s.png)\n",
    "\n",
    "\n",
    "- algorithms used for unsupervised learning\n",
    "![](pic/v34/9s.png)\n",
    "\n",
    "#### Reinforcement Learning\n",
    "- type of ML where users teach a machine where it made a mistake and where it was wright\n",
    "- based on that machine develops intelligence and does better decisions in future\n",
    "\n",
    "## ML Algorithms\n",
    "![](pic/v34/3s.png)\n"
   ]
  }
 ],
 "metadata": {
  "kernelspec": {
   "display_name": "Python 3",
   "language": "python",
   "name": "python3"
  },
  "language_info": {
   "codemirror_mode": {
    "name": "ipython",
    "version": 3
   },
   "file_extension": ".py",
   "mimetype": "text/x-python",
   "name": "python",
   "nbconvert_exporter": "python",
   "pygments_lexer": "ipython3",
   "version": "3.7.1"
  }
 },
 "nbformat": 4,
 "nbformat_minor": 2
}
