{
 "cells": [
  {
   "cell_type": "markdown",
   "metadata": {},
   "source": [
    "<div style=\"display: block;margin-left: auto;margin-right: auto;width: 100%;text-align: center;\">\n",
    "<br><a href=\"https://www.youtube.com/watch?v=NUXdtN1W1FE&list=PLEiEAq2VkUULYYgj13YHUWmRePqiu8Ddy&index=12\"><b> Source</b></a></div>"
   ]
  },
  {
   "cell_type": "markdown",
   "metadata": {},
   "source": [
    "# 1. Linear Regression Analysis\n",
    "***\n",
    "\n",
    "### Types of Linear Regression\n",
    "\n",
    "    - There are different typs of linear regression\n",
    "![](pic/v12/1s.png)\n",
    "\n",
    "### How to understande Linear Regression\n",
    "- Linear Regression is a statistical model used to predict the relationship between independent and dependent variables\n",
    "![](pic/v12/4s.png)\n",
    "\n",
    "#### Regression equation\n",
    "- The simplest form of a simple linear regression equation with one dependent and one independent variable is represented by:\n",
    "![](pic/v12/5s.png)\n",
    "\n",
    "#### Prediction using the Regression line\n",
    "Example: Based on the amount of rainfall, how much would be the crop yield?\n",
    "- INDEPENDENT VARIABLE as X (in our case it would be rainfall)\n",
    "- DEPENDENT VARIABLE as Y (in our case it would be crop yield)\n",
    "![](pic/v12/6s.png)\n",
    "\n",
    "#### Intuition behind the Regression line\n",
    "- Lets consider a sample dataset with 5 rows and find out how to draw the regression line:\n",
    "![](pic/v12/7s.png)\n",
    "\n",
    "- Calculate the mean of X an Y and plot the values\n",
    "![](pic/v12/8s.png)\n",
    "\n",
    "- Drawing the equation of the Regression line\n",
    "![](pic/v12/9s.png)\n",
    "\n",
    "- Now we can find out the predicted values of Y for corresponding values of X using the linear equation where m = 0.6 and c = 2.2\n",
    "![](pic/v12/10s.png)\n",
    "\n",
    "#### Finding the best fit line\n",
    "Minimizing the Distance!\n",
    "![](pic/v12/11s.png)\n",
    "\n",
    "#### Application of linear regression can be various:\n",
    "- to determine economic growth of a country or state\n",
    "- to predict GDP of a country\n",
    "- to estimate the number of houses a builder would sell and at waht price in the coming time\n",
    "- to predict the number of runs a player would score in the coming matches based on previous preformance\n",
    "- and many more\n",
    "\n",
    "Explanation of simple and multiple regression\n",
    "![](pic/v12/2s.png)"
   ]
  },
  {
   "cell_type": "markdown",
   "metadata": {},
   "source": [
    "###  Linear regression - demo example\n",
    "\n",
    "#### TASK: estemating price of a house"
   ]
  },
  {
   "cell_type": "code",
   "execution_count": 1,
   "metadata": {},
   "outputs": [
    {
     "name": "stdout",
     "output_type": "stream",
     "text": [
      "[[1400]\n",
      " [1600]\n",
      " [1700]\n",
      " [1875]\n",
      " [1100]\n",
      " [1550]\n",
      " [2350]\n",
      " [2450]\n",
      " [1425]\n",
      " [1700]]\n"
     ]
    }
   ],
   "source": [
    "import matplotlib.pyplot as plt\n",
    "import numpy as np\n",
    "from sklearn import datasets, linear_model\n",
    "\n",
    "# DATASET\n",
    "house_price=[245,312,279,308,199,219,405,324,319,255]\n",
    "size=[1400,1600,1700,1875,1100,1550,2350,2450,1425,1700]\n",
    "\n",
    "# reshape the input to your regression\n",
    "size2=np.array(size).reshape((-1,1))\n",
    "print(size2)"
   ]
  },
  {
   "cell_type": "code",
   "execution_count": 2,
   "metadata": {},
   "outputs": [
    {
     "name": "stdout",
     "output_type": "stream",
     "text": [
      "Coefficients:\n",
      " [0.10976774]\n",
      "intercept:\n",
      " 98.24832962138092\n"
     ]
    }
   ],
   "source": [
    "# by using fit module in linear regression, user can fit the data frequently an quickly\n",
    "regr=linear_model.LinearRegression()\n",
    "regr.fit(size2, house_price)\n",
    "\n",
    "print(\"Coefficients:\\n\", regr.coef_)\n",
    "print(\"intercept:\\n\",regr.intercept_)"
   ]
  },
  {
   "cell_type": "code",
   "execution_count": 3,
   "metadata": {},
   "outputs": [
    {
     "name": "stdout",
     "output_type": "stream",
     "text": [
      "[251.92316258]\n",
      "[251.92316258]\n"
     ]
    }
   ],
   "source": [
    "size_new=1400\n",
    "price=(size_new*regr.coef_)+regr.intercept_\n",
    "print(price)\n",
    "print(regr.predict([[size_new]]))"
   ]
  },
  {
   "cell_type": "code",
   "execution_count": 4,
   "metadata": {},
   "outputs": [
    {
     "data": {
      "image/png": "[encoded data removed]",
      "text/plain": [
       "<Figure size 432x288 with 1 Axes>"
      ]
     },
     "metadata": {
      "needs_background": "light"
     },
     "output_type": "display_data"
    }
   ],
   "source": [
    "# formula obtained for the trained model\n",
    "def graph(formula, x_range):\n",
    "    x=np.array(x_range)\n",
    "    y=eval(formula)\n",
    "    plt.plot(x,y)\n",
    "    \n",
    "# ploting the prediction line\n",
    "graph(\"regr.coef_*x + regr.intercept_\", range(1000,2700))\n",
    "plt.scatter(size, house_price, color=\"red\")\n",
    "plt.ylabel(\"house price\")\n",
    "plt.xlabel(\"size of house\")\n",
    "plt.show()"
   ]
  },
  {
   "cell_type": "markdown",
   "metadata": {},
   "source": [
    "#### Base on our data we get very useful prediction line!"
   ]
  },
  {
   "cell_type": "markdown",
   "metadata": {},
   "source": [
    "# 2. Linear regression - practical example\n",
    "***\n",
    "\n",
    "### <center> Predicting PROFIT of 1000 companys\n",
    "\n",
    "![](pic/v12/3s.png)"
   ]
  },
  {
   "cell_type": "code",
   "execution_count": 5,
   "metadata": {},
   "outputs": [],
   "source": [
    "# Importing the libraries\n",
    "import numpy as np\n",
    "import matplotlib.pyplot as plt\n",
    "import pandas as pd\n",
    "import seaborn as sns\n",
    "%matplotlib inline"
   ]
  },
  {
   "cell_type": "code",
   "execution_count": 6,
   "metadata": {},
   "outputs": [
    {
     "data": {
      "text/html": [
       "<div>\n",
       "<style scoped>\n",
       "    .dataframe tbody tr th:only-of-type {\n",
       "        vertical-align: middle;\n",
       "    }\n",
       "\n",
       "    .dataframe tbody tr th {\n",
       "        vertical-align: top;\n",
       "    }\n",
       "\n",
       "    .dataframe thead th {\n",
       "        text-align: right;\n",
       "    }\n",
       "</style>\n",
       "<table border=\"1\" class=\"dataframe\">\n",
       "  <thead>\n",
       "    <tr style=\"text-align: right;\">\n",
       "      <th></th>\n",
       "      <th>R&amp;D Spend</th>\n",
       "      <th>Administration</th>\n",
       "      <th>Marketing Spend</th>\n",
       "      <th>State</th>\n",
       "      <th>Profit</th>\n",
       "    </tr>\n",
       "  </thead>\n",
       "  <tbody>\n",
       "    <tr>\n",
       "      <th>0</th>\n",
       "      <td>165349.20</td>\n",
       "      <td>136897.80</td>\n",
       "      <td>471784.10</td>\n",
       "      <td>New York</td>\n",
       "      <td>192261.83</td>\n",
       "    </tr>\n",
       "    <tr>\n",
       "      <th>1</th>\n",
       "      <td>162597.70</td>\n",
       "      <td>151377.59</td>\n",
       "      <td>443898.53</td>\n",
       "      <td>California</td>\n",
       "      <td>191792.06</td>\n",
       "    </tr>\n",
       "    <tr>\n",
       "      <th>2</th>\n",
       "      <td>153441.51</td>\n",
       "      <td>101145.55</td>\n",
       "      <td>407934.54</td>\n",
       "      <td>Florida</td>\n",
       "      <td>191050.39</td>\n",
       "    </tr>\n",
       "    <tr>\n",
       "      <th>3</th>\n",
       "      <td>144372.41</td>\n",
       "      <td>118671.85</td>\n",
       "      <td>383199.62</td>\n",
       "      <td>New York</td>\n",
       "      <td>182901.99</td>\n",
       "    </tr>\n",
       "    <tr>\n",
       "      <th>4</th>\n",
       "      <td>142107.34</td>\n",
       "      <td>91391.77</td>\n",
       "      <td>366168.42</td>\n",
       "      <td>Florida</td>\n",
       "      <td>166187.94</td>\n",
       "    </tr>\n",
       "  </tbody>\n",
       "</table>\n",
       "</div>"
      ],
      "text/plain": [
       "   R&D Spend  Administration  Marketing Spend       State     Profit\n",
       "0  165349.20       136897.80        471784.10    New York  192261.83\n",
       "1  162597.70       151377.59        443898.53  California  191792.06\n",
       "2  153441.51       101145.55        407934.54     Florida  191050.39\n",
       "3  144372.41       118671.85        383199.62    New York  182901.99\n",
       "4  142107.34        91391.77        366168.42     Florida  166187.94"
      ]
     },
     "execution_count": 6,
     "metadata": {},
     "output_type": "execute_result"
    }
   ],
   "source": [
    "# Importing the dataset and Extracting the Independent and Dependent variables\n",
    "companies = pd.read_csv(\"Data/1000_Companies.csv\")\n",
    "X = companies.iloc[:, :-1].values\n",
    "y = companies.iloc[:, 4].values\n",
    "\n",
    "companies.head()"
   ]
  },
  {
   "cell_type": "code",
   "execution_count": 7,
   "metadata": {},
   "outputs": [
    {
     "data": {
      "text/plain": [
       "<matplotlib.axes._subplots.AxesSubplot at 0x1ad83539d30>"
      ]
     },
     "execution_count": 7,
     "metadata": {},
     "output_type": "execute_result"
    },
    {
     "data": {
      "image/png": "[encoded data removed]",
      "text/plain": [
       "<Figure size 432x288 with 2 Axes>"
      ]
     },
     "metadata": {
      "needs_background": "light"
     },
     "output_type": "display_data"
    }
   ],
   "source": [
    "# Data Visualisation\n",
    "# Building the Correlation matrix\n",
    "sns.heatmap(companies.corr())"
   ]
  },
  {
   "cell_type": "code",
   "execution_count": 8,
   "metadata": {},
   "outputs": [
    {
     "name": "stderr",
     "output_type": "stream",
     "text": [
      "C:\\Users\\X\\Anaconda3\\lib\\site-packages\\sklearn\\preprocessing\\_encoders.py:368: FutureWarning: The handling of integer data will change in version 0.22. Currently, the categories are determined based on the range [0, max(values)], while in the future they will be determined based on the unique values.\n",
      "If you want the future behaviour and silence this warning, you can specify \"categories='auto'\".\n",
      "In case you used a LabelEncoder before this OneHotEncoder to convert the categories to integers, then you can now use the OneHotEncoder directly.\n",
      "  warnings.warn(msg, FutureWarning)\n",
      "C:\\Users\\X\\Anaconda3\\lib\\site-packages\\sklearn\\preprocessing\\_encoders.py:390: DeprecationWarning: The 'categorical_features' keyword is deprecated in version 0.20 and will be removed in 0.22. You can use the ColumnTransformer instead.\n",
      "  \"use the ColumnTransformer instead.\", DeprecationWarning)\n"
     ]
    }
   ],
   "source": [
    "# Encoding categorical data\n",
    "from sklearn.preprocessing import LabelEncoder, OneHotEncoder\n",
    "labelencoder = LabelEncoder()\n",
    "X[:, 3] = labelencoder.fit_transform(X[:, 3])\n",
    "onehotencoder = OneHotEncoder(categorical_features = [3])\n",
    "X = onehotencoder.fit_transform(X).toarray()"
   ]
  },
  {
   "cell_type": "code",
   "execution_count": 9,
   "metadata": {},
   "outputs": [],
   "source": [
    "# Avoiding the Dummy Variable Trap\n",
    "X = X[:, 1:]"
   ]
  },
  {
   "cell_type": "code",
   "execution_count": 10,
   "metadata": {},
   "outputs": [],
   "source": [
    "# Splitting the dataset into the Training set and Test set\n",
    "from sklearn.model_selection import train_test_split\n",
    "X_train, X_test, y_train, y_test = train_test_split(X, y, test_size = 0.2, random_state = 0)"
   ]
  },
  {
   "cell_type": "code",
   "execution_count": 11,
   "metadata": {},
   "outputs": [
    {
     "data": {
      "text/plain": [
       "LinearRegression(copy_X=True, fit_intercept=True, n_jobs=None,\n",
       "         normalize=False)"
      ]
     },
     "execution_count": 11,
     "metadata": {},
     "output_type": "execute_result"
    }
   ],
   "source": [
    "# Fitting Multiple Linear Regression to the Training set\n",
    "from sklearn.linear_model import LinearRegression\n",
    "regressor = LinearRegression()\n",
    "regressor.fit(X_train, y_train)"
   ]
  },
  {
   "cell_type": "code",
   "execution_count": 12,
   "metadata": {},
   "outputs": [
    {
     "data": {
      "text/plain": [
       "array([ 89790.61532916,  88427.07187362,  94894.67836972, 175680.86725609,\n",
       "        83411.7304209 , 110571.90200074, 132145.22936439,  91473.37719687,\n",
       "       164597.05380605,  53222.82667403,  66950.19050991, 150566.43987004,\n",
       "       126915.20858596,  59337.85971052, 177513.91053059,  75316.28143052,\n",
       "       118248.14406603, 164574.406999  , 170937.28981069, 182069.11645082,\n",
       "       118845.0325269 ,  85669.9511223 , 180992.59396141,  84145.08220146,\n",
       "       105005.83769214, 101233.56772747,  53831.07669094,  56881.41475226,\n",
       "        68896.39346906, 210040.00765881, 120778.72270894, 111724.87157655,\n",
       "       101487.90541518, 137959.02649623,  63969.95996745, 108857.91214127,\n",
       "       186014.72531986, 171442.64130746, 174644.26529203, 117671.49128196,\n",
       "        96731.37857434, 165452.25779408, 107724.34331255,  50194.54176915,\n",
       "       116513.89532179,  58632.48986822, 158416.46827608,  78541.48521611,\n",
       "       159727.66671742, 131137.87699644, 184880.70924514, 174609.08266878,\n",
       "        93745.66352059,  78341.13383419, 180745.90439078,  84461.61490553,\n",
       "       142900.90602902, 170618.44098395,  84365.0953084 , 105307.37162181,\n",
       "       141660.07290786,  52527.34340444, 141842.96264159, 139176.27973194,\n",
       "        98294.52669667, 113586.86790969, 126754.21895489, 152135.51985561,\n",
       "        58864.51658957, 174285.57361128, 124624.04380783, 169065.77658976,\n",
       "        91279.3319821 , 156170.37268961,  84307.26579367,  77877.75223098,\n",
       "       120414.02421346,  93380.44273242, 139020.6251412 , 143604.67103572,\n",
       "       171148.30815366, 140082.97050131, 106369.71689747, 155641.43851386,\n",
       "       140030.10330036, 110172.87893525,  69672.98677566,  88148.52068042,\n",
       "       140133.59925092, 148479.09537886, 157916.63505256,  58532.94863143,\n",
       "        93707.38422391, 112646.37475705,  56556.18943662, 107414.89996181,\n",
       "       147352.80227752, 152144.10104033, 167808.11701782, 118750.25230713,\n",
       "       120763.27666701, 139029.95295662, 157527.90934118, 121962.0621496 ,\n",
       "        87091.32399738, 104792.91384334,  95335.22679186, 178389.52287434,\n",
       "       181942.63776379, 109831.34945507, 165254.03344095, 167806.06491901,\n",
       "       158002.44642542, 174782.86900954, 170196.77102697,  52302.18161614,\n",
       "       176938.11595788, 104751.83583866,  82710.31528806, 138890.52767843,\n",
       "       144274.74675424, 161679.01836439, 169662.05445893, 120450.9231013 ,\n",
       "       158880.70799545, 110213.73252825, 169674.51532365,  60760.61300843,\n",
       "       159036.99629066, 158169.44286046, 174511.70494473, 156294.79927782,\n",
       "       103714.37583212,  85635.96237575, 141603.54878756, 165917.69156978,\n",
       "       121182.03641977, 170751.87883892, 100505.77549412,  82097.51033129,\n",
       "       178643.18879841, 101790.48384579,  70507.40958623,  90250.04230089,\n",
       "        61247.49962682,  68912.17534522,  72775.81613477, 176914.08873122,\n",
       "        89704.69244932, 129209.43730016,  92672.90938384,  88133.59175045,\n",
       "       172836.33021617,  60893.62070016, 169015.89446009, 166450.24453203,\n",
       "       165425.54476414, 102170.51694991, 181594.57928214,  73702.57942563,\n",
       "        91267.42979669, 135791.54160194,  64922.80257302,  71775.70235727,\n",
       "        60603.91401517, 184288.61041913, 176286.69585943, 158907.75687037,\n",
       "       141359.32216438, 154611.1792832 ,  58549.58863235,  90618.584079  ,\n",
       "       152885.51163924, 168398.05223803,  72485.36274541, 116064.24350668,\n",
       "        80087.8069721 , 149828.90896187, 116806.95957371, 130191.4884516 ,\n",
       "       174534.42670327, 293584.45948281, 146270.83174788, 150646.69178013,\n",
       "        86107.47782248,  69967.20842248,  70096.78368775,  69033.6917077 ,\n",
       "       120666.75708063,  89677.68014064, 166824.27091661, 125514.76626409,\n",
       "        67209.67687468, 140930.694277  , 118544.30490695, 165897.61905905,\n",
       "       168655.4865255 , 147009.66805048, 141396.22104146, 109086.50634849])"
      ]
     },
     "execution_count": 12,
     "metadata": {},
     "output_type": "execute_result"
    }
   ],
   "source": [
    "# Predicting the Test set results\n",
    "y_pred = regressor.predict(X_test)\n",
    "y_pred"
   ]
  },
  {
   "cell_type": "code",
   "execution_count": 13,
   "metadata": {},
   "outputs": [
    {
     "name": "stdout",
     "output_type": "stream",
     "text": [
      "[-8.80536598e+02 -6.98169073e+02  5.25845857e-01  8.44390881e-01\n",
      "  1.07574255e-01]\n"
     ]
    }
   ],
   "source": [
    "# Calculating the Coefficients\n",
    "print(regressor.coef_)"
   ]
  },
  {
   "cell_type": "code",
   "execution_count": 14,
   "metadata": {},
   "outputs": [
    {
     "name": "stdout",
     "output_type": "stream",
     "text": [
      "-51035.22972400437\n"
     ]
    }
   ],
   "source": [
    "# Calculating the Intercept\n",
    "print(regressor.intercept_)"
   ]
  },
  {
   "cell_type": "code",
   "execution_count": 15,
   "metadata": {},
   "outputs": [
    {
     "data": {
      "text/plain": [
       "0.9112695892268778"
      ]
     },
     "execution_count": 15,
     "metadata": {},
     "output_type": "execute_result"
    }
   ],
   "source": [
    "# Calculating the R squared value\n",
    "from sklearn.metrics import r2_score\n",
    "r2_score(y_test, y_pred)"
   ]
  },
  {
   "cell_type": "markdown",
   "metadata": {},
   "source": [
    "#### Our model is 80% which is not so bad. "
   ]
  }
 ],
 "metadata": {
  "kernelspec": {
   "display_name": "Python 3",
   "language": "python",
   "name": "python3"
  },
  "language_info": {
   "codemirror_mode": {
    "name": "ipython",
    "version": 3
   },
   "file_extension": ".py",
   "mimetype": "text/x-python",
   "name": "python",
   "nbconvert_exporter": "python",
   "pygments_lexer": "ipython3",
   "version": "3.7.1"
  }
 },
 "nbformat": 4,
 "nbformat_minor": 2
}
