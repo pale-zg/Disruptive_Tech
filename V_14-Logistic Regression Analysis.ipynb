{
 "cells": [
  {
   "cell_type": "markdown",
   "metadata": {},
   "source": [
    "<div style=\"display: block;margin-left: auto;margin-right: auto;width: 100%;text-align: center;\">\n",
    "<br><a href=\"https://www.youtube.com/watch?v=XnOAdxOWXWg&list=PLEiEAq2VkUULYYgj13YHUWmRePqiu8Ddy&index=14\"><b> Source</b></a></div>"
   ]
  },
  {
   "cell_type": "markdown",
   "metadata": {},
   "source": [
    "# 1. Logistic Regression analysis\n",
    "***\n",
    "\n",
    "### <center> Theoretical part\n",
    "    \n",
    "    - we don't want to get cofused, but logistic regression is type of classification\n",
    "![](pic/v14/1s.png)\n",
    "\n",
    "- LITTLE BIT MORE ON TYPE OF <u>CLASSIFICATION</u>, THERE ARE:\n",
    "    - <b>Decision trees</b> \n",
    "        - we take decisions using a tree structure\n",
    "        - each branch node represents a choice, and leaf node represents a decisions\n",
    "    - <b>K-nearest neighbor</b>\n",
    "        - it helps determine what the given object is, based on its similarity to the objects it is compared to\n",
    "    - <b>Logistic regression</b>\n",
    "        - a dataset with one or more independent variables is used to determine binary output of the dependent variable\n",
    "\n",
    "#### <center>EXAMPLE</center>\n",
    "   \n",
    "- how long until car breaks down?\n",
    "![](pic/v14/2s.png)\n",
    "\n",
    "- we can see that the line has various probability results on each part (from 0 to 1 -> like from 0 to 100%)\n",
    "- that tells us chances if car is going to break or not\n",
    "\n",
    "#### LINEAR and LOGISTIC REGRESSION\n",
    "\n",
    "- here's the graph of how linear regression would be, for a given scenario if we wanted to know wheather the employee would get a promotion or not based on thier rating\n",
    "![](pic/v14/3s.png)\n",
    "\n",
    "- for this we can't use linear regression\n",
    "\n",
    "![](pic/v14/4s.png)\n",
    "\n",
    "- as we can see, the error value when using this type of data with linear regression would be very big because there's nothing in between\n",
    "- for this cases, when the dependent variable is categorical, we use logistic regression\n",
    "\n",
    "#### To understand Logistic Regression we need to understand math behind it!\n",
    "![](pic/v14/5s.png)\n",
    "\n",
    "Lets look the equation\n",
    "![](pic/v14/6s.png)\n",
    "![](pic/v14/7s.png)\n",
    "\n",
    "#### Diferences between Linear and Logistic Regression\n",
    "![](pic/v14/8s.png)\n",
    "\n",
    "\n",
    "#### Aplication of Logistic Regression\n",
    "- Weather prediction\n",
    "    - helps determine the kind of weather that can be expected\n",
    "- Image categorization\n",
    "    - identiffies the different components that are present in the image, and helps to categorize the\n",
    "- Healthcare\n",
    "    - determines the possibility of patient survival, taking age, ect ..."
   ]
  },
  {
   "cell_type": "markdown",
   "metadata": {},
   "source": [
    "# 2. Logistic Regression - practical example\n",
    "***\n",
    "\n",
    "### Predicting numbers \n",
    "- guessing which number is in the certain pic)"
   ]
  },
  {
   "cell_type": "code",
   "execution_count": 1,
   "metadata": {},
   "outputs": [],
   "source": [
    "from sklearn.datasets import load_digits\n",
    "from sklearn.model_selection import train_test_split\n",
    "from sklearn import metrics\n",
    "\n",
    "import numpy as np\n",
    "import matplotlib.pyplot as plt\n",
    "import seaborn as sns\n",
    "%matplotlib inline"
   ]
  },
  {
   "cell_type": "code",
   "execution_count": 2,
   "metadata": {},
   "outputs": [],
   "source": [
    "digits = load_digits()"
   ]
  },
  {
   "cell_type": "code",
   "execution_count": 3,
   "metadata": {},
   "outputs": [
    {
     "name": "stdout",
     "output_type": "stream",
     "text": [
      "Image Data Shape: (1797, 64)\n",
      "Label Data Shape: (1797,)\n"
     ]
    }
   ],
   "source": [
    "print(\"Image Data Shape: {}\".format(digits.data.shape))\n",
    "print(\"Label Data Shape: {}\".format(digits.target.shape))"
   ]
  },
  {
   "cell_type": "code",
   "execution_count": 4,
   "metadata": {},
   "outputs": [
    {
     "data": {
      "image/png": "[encoded data removed]",
      "text/plain": [
       "<Figure size 1440x288 with 5 Axes>"
      ]
     },
     "metadata": {
      "needs_background": "light"
     },
     "output_type": "display_data"
    }
   ],
   "source": [
    "plt.figure(figsize=(20, 4))\n",
    "\n",
    "for index, (image, label) in enumerate(zip(digits.data[0:5], digits.target[0:5])):\n",
    "    plt.subplot(1, 5, index + 1)\n",
    "    plt.imshow(np.reshape(image, (8, 8)), cmap=plt.cm.gray)\n",
    "    plt.title(\"Training: %i\\n\" % label, fontsize=20)"
   ]
  },
  {
   "cell_type": "code",
   "execution_count": 5,
   "metadata": {},
   "outputs": [],
   "source": [
    "X_train, X_test, y_train, y_test = train_test_split(digits.data, digits.target, test_size=0.25)"
   ]
  },
  {
   "cell_type": "code",
   "execution_count": 6,
   "metadata": {},
   "outputs": [
    {
     "data": {
      "text/plain": [
       "(1347, 64)"
      ]
     },
     "execution_count": 6,
     "metadata": {},
     "output_type": "execute_result"
    }
   ],
   "source": [
    "X_train.shape"
   ]
  },
  {
   "cell_type": "code",
   "execution_count": 7,
   "metadata": {},
   "outputs": [
    {
     "data": {
      "text/plain": [
       "(1347,)"
      ]
     },
     "execution_count": 7,
     "metadata": {},
     "output_type": "execute_result"
    }
   ],
   "source": [
    "y_train.shape"
   ]
  },
  {
   "cell_type": "code",
   "execution_count": 8,
   "metadata": {},
   "outputs": [
    {
     "data": {
      "text/plain": [
       "(450, 64)"
      ]
     },
     "execution_count": 8,
     "metadata": {},
     "output_type": "execute_result"
    }
   ],
   "source": [
    "X_test.shape"
   ]
  },
  {
   "cell_type": "code",
   "execution_count": 9,
   "metadata": {},
   "outputs": [
    {
     "data": {
      "text/plain": [
       "(450,)"
      ]
     },
     "execution_count": 9,
     "metadata": {},
     "output_type": "execute_result"
    }
   ],
   "source": [
    "y_test.shape"
   ]
  },
  {
   "cell_type": "code",
   "execution_count": 10,
   "metadata": {},
   "outputs": [
    {
     "name": "stderr",
     "output_type": "stream",
     "text": [
      "C:\\Users\\X\\Anaconda3\\lib\\site-packages\\sklearn\\linear_model\\logistic.py:433: FutureWarning: Default solver will be changed to 'lbfgs' in 0.22. Specify a solver to silence this warning.\n",
      "  FutureWarning)\n",
      "C:\\Users\\X\\Anaconda3\\lib\\site-packages\\sklearn\\linear_model\\logistic.py:460: FutureWarning: Default multi_class will be changed to 'auto' in 0.22. Specify the multi_class option to silence this warning.\n",
      "  \"this warning.\", FutureWarning)\n"
     ]
    },
    {
     "data": {
      "text/plain": [
       "LogisticRegression(C=1.0, class_weight=None, dual=False, fit_intercept=True,\n",
       "          intercept_scaling=1, max_iter=100, multi_class='warn',\n",
       "          n_jobs=None, penalty='l2', random_state=None, solver='warn',\n",
       "          tol=0.0001, verbose=0, warm_start=False)"
      ]
     },
     "execution_count": 10,
     "metadata": {},
     "output_type": "execute_result"
    }
   ],
   "source": [
    "from sklearn.linear_model import LogisticRegression\n",
    "\n",
    "log_reg = LogisticRegression()\n",
    "log_reg.fit(X_train, y_train)"
   ]
  },
  {
   "cell_type": "code",
   "execution_count": 11,
   "metadata": {},
   "outputs": [
    {
     "name": "stdout",
     "output_type": "stream",
     "text": [
      "[6]\n"
     ]
    }
   ],
   "source": [
    "print(log_reg.predict(X_test[0].reshape(1, -1)))"
   ]
  },
  {
   "cell_type": "code",
   "execution_count": 12,
   "metadata": {},
   "outputs": [
    {
     "data": {
      "text/plain": [
       "array([6, 5, 4, 0, 4, 8, 4, 2, 9, 8])"
      ]
     },
     "execution_count": 12,
     "metadata": {},
     "output_type": "execute_result"
    }
   ],
   "source": [
    "log_reg.predict(X_test[:10])"
   ]
  },
  {
   "cell_type": "code",
   "execution_count": 13,
   "metadata": {},
   "outputs": [
    {
     "data": {
      "text/plain": [
       "0.9644444444444444"
      ]
     },
     "execution_count": 13,
     "metadata": {},
     "output_type": "execute_result"
    }
   ],
   "source": [
    "predictions = log_reg.predict(X_test)\n",
    "\n",
    "score = log_reg.score(X_test, y_test)\n",
    "score"
   ]
  },
  {
   "cell_type": "code",
   "execution_count": 14,
   "metadata": {},
   "outputs": [
    {
     "data": {
      "text/plain": [
       "Text(0.5, 1.0, 'Accuracy Score: 0.9644444444444444')"
      ]
     },
     "execution_count": 14,
     "metadata": {},
     "output_type": "execute_result"
    },
    {
     "data": {
      "image/png": "[encoded data removed]",
      "text/plain": [
       "<Figure size 648x648 with 2 Axes>"
      ]
     },
     "metadata": {
      "needs_background": "light"
     },
     "output_type": "display_data"
    }
   ],
   "source": [
    "cm = metrics.confusion_matrix(y_test, predictions)\n",
    "\n",
    "plt.figure(figsize=(9, 9))\n",
    "sns.heatmap(cm, annot=True, fmt=\".3f\", linewidths=.5, square=True, cmap=\"Blues_r\")\n",
    "plt.ylabel(\"Actual label\")\n",
    "plt.xlabel(\"Predicted label\")\n",
    "all_sample_title = \"Accuracy Score: {}\".format(score)\n",
    "plt.title(all_sample_title, size=15)"
   ]
  },
  {
   "cell_type": "code",
   "execution_count": 15,
   "metadata": {},
   "outputs": [
    {
     "data": {
      "image/png": "[encoded data removed]",
      "text/plain": [
       "<Figure size 1440x216 with 4 Axes>"
      ]
     },
     "metadata": {
      "needs_background": "light"
     },
     "output_type": "display_data"
    }
   ],
   "source": [
    "index = 0\n",
    "classifiedIndex = []\n",
    "for predict, actual in zip(predictions, y_test):\n",
    "    if predict == actual:\n",
    "        classifiedIndex.append(index)\n",
    "    index += 1\n",
    "\n",
    "plt.figure(figsize = (20,3))\n",
    "for plotIndex, wrong in enumerate(classifiedIndex[0:4]):\n",
    "    plt.subplot(1,4,plotIndex + 1)\n",
    "    plt.imshow(np.reshape(X_test[wrong],(8,8)),cmap=plt.cm.gray)\n",
    "    plt.title(\"Predict: {}, Actual: {}\" .format(predictions[wrong], y_test[wrong]), fontsize=20)"
   ]
  }
 ],
 "metadata": {
  "kernelspec": {
   "display_name": "Python 3",
   "language": "python",
   "name": "python3"
  },
  "language_info": {
   "codemirror_mode": {
    "name": "ipython",
    "version": 3
   },
   "file_extension": ".py",
   "mimetype": "text/x-python",
   "name": "python",
   "nbconvert_exporter": "python",
   "pygments_lexer": "ipython3",
   "version": "3.7.1"
  }
 },
 "nbformat": 4,
 "nbformat_minor": 2
}
